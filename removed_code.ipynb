{
 "cells": [
  {
   "cell_type": "code",
   "execution_count": null,
   "metadata": {},
   "outputs": [],
   "source": [
    "# converting target attribute to a class label\n",
    "# <Your code here>\n",
    "price_median = data[\"price\"].median()\n",
    "above_median = data[data[\"price\"]<price_median]\n",
    "below_median = data[data[\"price\"]>=price_median]\n",
    "label_above = [1 for i in range(len(above_median[\"price\"]))]\n",
    "label_below = [1 for i in range(len(below_median[\"price\"]))]\n",
    "above_median = above_median.copy()\n",
    "below_median = below_median.copy()\n",
    "#above_median = pd.DataFrame(above_median, columns = ['price', 'bedrooms', 'bathrooms', 'sqft_living', 'sqft_lot', 'floors','waterfront', 'condition', 'sqft_above', 'sqft_basement', 'age'])\n",
    "#below_median = pd.DataFrame(below_median, columns = ['price', 'bedrooms', 'bathrooms', 'sqft_living', 'sqft_lot', 'floors','waterfront', 'condition', 'sqft_above', 'sqft_basement', 'age'])\n",
    "\n",
    "#above_median.loc[:,'price'] = label_above\n",
    "#below_median.loc[:,'price'] = label_below\n",
    "\n",
    "above_median['price'] = label_above\n",
    "below_median['price'] = label_below\n",
    "\n",
    "above_median.append(below_median, ignore_index=True)\n",
    "print(above_median)\n",
    "above_median = pd.DataFrame(above_median, columns = ['price', 'bedrooms', 'bathrooms', 'sqft_living', 'sqft_lot', 'floors','waterfront', 'condition', 'sqft_above', 'sqft_basement', 'age', \"label\"])\n",
    "above_median\n",
    "labeled_data = pd.DataFrame(labeled_data, columns = ['price', 'bedrooms', 'bathrooms', 'sqft_living', 'sqft_lot', 'floors','waterfront', 'condition', 'sqft_above', 'sqft_basement', 'age', \"label\"])\n",
    "#labeled_data\n",
    "#labeled_data = labeled_data.drop(columns=['price'])\n",
    "#Y_labeled = labeled_data['label'].values"
   ]
  },
  {
   "cell_type": "code",
   "execution_count": null,
   "metadata": {},
   "outputs": [],
   "source": [
    "# converting target attribute to a class label\n",
    "price_median = data[\"price\"].median()\n",
    "data_labeled = data.copy() #make a copy of the original data so we can make changes of the data\n",
    "data_labeled['price'] = [1 if x > price_median else 0 for x in data_labeled['price']] #change numerical prices to class labels\n",
    "\n",
    "data_labeled\n",
    "\n",
    "# How many houses belong to class 0 and to class 1?\n",
    "num_below = data_labeled[data_labeled[\"price\"] == 0].shape[0]\n",
    "num_above = data_labeled[data_labeled[\"price\"] == 1].shape[0]\n",
    "print(\"houses belong to class 0: \", num_below)\n",
    "print(\"houses belong to class 1: \", num_above)\n",
    "# here houses belong to class 1 are the house's price > median\n",
    "# and the rest of the houses are class 0 (with those house's price = median)\n",
    "\n",
    "\n",
    "# set the parameters for the KNeighborsClassifier\n",
    "n_neighbors = 3\n",
    "weights = 'distance'\n",
    "# we can choose weights from ['uniform', 'distance']\n",
    "\n",
    "from sklearn.neighbors import KNeighborsClassifier\n",
    "knn = KNeighborsClassifier(n_neighbors, weights=weights)\n",
    "knn.fit(X_train, Y_train)"
   ]
  }
 ],
 "metadata": {
  "kernelspec": {
   "display_name": "Python 3",
   "language": "python",
   "name": "python3"
  },
  "language_info": {
   "codemirror_mode": {
    "name": "ipython",
    "version": 3
   },
   "file_extension": ".py",
   "mimetype": "text/x-python",
   "name": "python",
   "nbconvert_exporter": "python",
   "pygments_lexer": "ipython3",
   "version": "3.8.3"
  }
 },
 "nbformat": 4,
 "nbformat_minor": 4
}
